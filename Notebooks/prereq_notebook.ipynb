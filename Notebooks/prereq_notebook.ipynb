{
 "cells": [
  {
   "cell_type": "markdown",
   "id": "89d4e119",
   "metadata": {},
   "source": [
    "I'm Katrinia Reppen.  Currently, I work as a Technical Product Manager in DevOps Infrastructure for John Deere.\n",
    "I am excited to learn Python.  I have a lot of experience in SQL.\n",
    "\n"
   ]
  },
  {
   "cell_type": "code",
   "execution_count": 2,
   "id": "4d83c415",
   "metadata": {},
   "outputs": [
    {
     "name": "stdout",
     "output_type": "stream",
     "text": [
      "Hello Katrinia !\n"
     ]
    }
   ],
   "source": [
    "print (\"Hello Katrinia !\")"
   ]
  }
 ],
 "metadata": {
  "kernelspec": {
   "display_name": "Python 3",
   "language": "python",
   "name": "python3"
  },
  "language_info": {
   "codemirror_mode": {
    "name": "ipython",
    "version": 3
   },
   "file_extension": ".py",
   "mimetype": "text/x-python",
   "name": "python",
   "nbconvert_exporter": "python",
   "pygments_lexer": "ipython3",
   "version": "3.13.5"
  }
 },
 "nbformat": 4,
 "nbformat_minor": 5
}
